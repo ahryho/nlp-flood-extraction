{
 "cells": [
  {
   "cell_type": "code",
   "execution_count": 78,
   "metadata": {},
   "outputs": [],
   "source": [
    "import content_extractor\n",
    "\n",
    "import configparser\n",
    "\n",
    "from importlib import reload\n",
    "\n",
    "# set the max columns to none\n",
    "import pandas as pd\n",
    "pd.set_option('display.max_columns', None)\n",
    "# set max_colwidth to 3000\n",
    "pd.set_option('display.max_colwidth', 100)"
   ]
  },
  {
   "cell_type": "code",
   "execution_count": 127,
   "metadata": {},
   "outputs": [],
   "source": [
    "reload(content_extractor)\n",
    "\n",
    "config = configparser.ConfigParser()\n",
    "\n",
    "config_file_path = 'config/test.ini'\n",
    "config.read(config_file_path)\n",
    "\n",
    "# Get configuration options\n",
    "input_filename = config.get('General', 'input_filename')\n",
    "output_filename = config.get('General', 'output_filename')\n",
    "output_filename = None if output_filename == \"None\" else output_filename\n",
    "mode = config.get('General', 'mode')\n",
    "num_processes = config.getint('General', 'num_processes')\n",
    "url_col_name = config.get('General', 'url_col_name')\n",
    "pub_date_col_name = config.get('General', 'pub_date_col_name')\n",
    "\n",
    "if mode in {'openai', 'all'}:\n",
    "    openai_model = config.get('General', 'openai_model')\n",
    "    openai_temp = config.getfloat('General', 'openai_temp')\n",
    "    openai_max_tokens = config.getint('General', 'openai_max_tokens') \n",
    "    \n",
    "    # Initialize ContentExtractor\n",
    "    extractor = content_extractor.ContentExtractor(openai_model, openai_temp, openai_max_tokens)\n",
    "\n",
    "elif mode == 'extractor': extractor = content_extractor.ContentExtractor()\n",
    "    "
   ]
  },
  {
   "cell_type": "code",
   "execution_count": null,
   "metadata": {},
   "outputs": [],
   "source": [
    "# Read data\n",
    "data_df = extractor.read_data(input_filename, url_col_name=url_col_name, pub_date_col_name=pub_date_col_name)\n",
    "data_df"
   ]
  },
  {
   "cell_type": "code",
   "execution_count": 142,
   "metadata": {},
   "outputs": [
    {
     "name": "stderr",
     "output_type": "stream",
     "text": [
      "INFO:root:Saving results ...\n",
      "INFO:root:Saved.\n"
     ]
    }
   ],
   "source": [
    "url_content_df = extractor.extract_content(data_df, num_processes=num_processes, out_fn=output_filename)"
   ]
  },
  {
   "cell_type": "code",
   "execution_count": 94,
   "metadata": {},
   "outputs": [
    {
     "data": {
      "text/html": [
       "<div>\n",
       "<style scoped>\n",
       "    .dataframe tbody tr th:only-of-type {\n",
       "        vertical-align: middle;\n",
       "    }\n",
       "\n",
       "    .dataframe tbody tr th {\n",
       "        vertical-align: top;\n",
       "    }\n",
       "\n",
       "    .dataframe thead th {\n",
       "        text-align: right;\n",
       "    }\n",
       "</style>\n",
       "<table border=\"1\" class=\"dataframe\">\n",
       "  <thead>\n",
       "    <tr style=\"text-align: right;\">\n",
       "      <th></th>\n",
       "      <th>PublishedDate</th>\n",
       "      <th>Language</th>\n",
       "      <th>Alert_definition</th>\n",
       "      <th>PT</th>\n",
       "      <th>Title</th>\n",
       "      <th>Content</th>\n",
       "      <th>Id</th>\n",
       "      <th>URL</th>\n",
       "      <th>Summary</th>\n",
       "      <th>New_Content</th>\n",
       "      <th>Is_Article</th>\n",
       "    </tr>\n",
       "  </thead>\n",
       "  <tbody>\n",
       "    <tr>\n",
       "      <th>0</th>\n",
       "      <td>2023-10-05T07:50:39Z</td>\n",
       "      <td>en</td>\n",
       "      <td>flood</td>\n",
       "      <td>all</td>\n",
       "      <td>Flash &lt;b&gt;floods&lt;/b&gt; kill at least 14 in northeastern India and leave more than 100 missing</td>\n",
       "      <td>NEW DELHI (AP) — Rescue workers were searching for more than 100 people on Thursday after flash ...</td>\n",
       "      <td>tag:google.com,2013:googlealerts/feed:7377215587900989542</td>\n",
       "      <td>https://nationalpost.com/pmn/news-pmn/flash-floods-kill-at-least-14-in-northeastern-india-and-le...</td>\n",
       "      <td>Article content It was the latest deadly flood to hit northeast India in a year of unusually hea...</td>\n",
       "      <td>This advertisement has not loaded yet, but your article continues below. Icy floodwaters kill at...</td>\n",
       "      <td>1</td>\n",
       "    </tr>\n",
       "    <tr>\n",
       "      <th>1</th>\n",
       "      <td>2023-10-05T07:44:07Z</td>\n",
       "      <td>en</td>\n",
       "      <td>flood</td>\n",
       "      <td>all</td>\n",
       "      <td>8 dead, 22 armymen among 69 missing as flash &lt;b&gt;flood&lt;/b&gt; wreaks havoc in Sikkim; Modi dials CM</td>\n",
       "      <td>Besides the 22 army personnel, 47 civilians were also missing, while 166 people have so far been...</td>\n",
       "      <td>tag:google.com,2013:googlealerts/feed:1218474220935360231</td>\n",
       "      <td>https://m.timesofindia.com/city/kolkata/8-dead-22-armymen-among-69-missing-as-flash-flood-wreaks...</td>\n",
       "      <td>\"Spoke to Sikkim CM Shri PSTamangGolay and took stock of the situation in the wake of the unfort...</td>\n",
       "      <td>Sikkim flash floods: 23 army men missing after cloud burst in Lachen Valley NEW DELHI/GANGTOK: A...</td>\n",
       "      <td>1</td>\n",
       "    </tr>\n",
       "    <tr>\n",
       "      <th>2</th>\n",
       "      <td>2023-10-05T06:57:51Z</td>\n",
       "      <td>en</td>\n",
       "      <td>flood</td>\n",
       "      <td>all</td>\n",
       "      <td>Tokyo Will Get a New Immersive Shopping, Dining Spot as Tourists &lt;b&gt;Flood&lt;/b&gt; to Japan</td>\n",
       "      <td>(Bloomberg) -- A new immersive dining, shopping and entertainment attraction will open in Tokyo ...</td>\n",
       "      <td>tag:google.com,2013:googlealerts/feed:11568202952123180859</td>\n",
       "      <td>https://www.bnnbloomberg.ca/tokyo-will-get-a-new-immersive-shopping-dining-spot-as-tourists-floo...</td>\n",
       "      <td>Tokyo Will Get a New Immersive Shopping, Dining Spot as Tourists Flood to Japan(Bloomberg) -- A ...</td>\n",
       "      <td>Tokyo Will Get a New Immersive Shopping, Dining Spot as Tourists Flood to Japan (Bloomberg) -- A...</td>\n",
       "      <td>1</td>\n",
       "    </tr>\n",
       "    <tr>\n",
       "      <th>3</th>\n",
       "      <td>2023-10-05T06:15:39Z</td>\n",
       "      <td>en</td>\n",
       "      <td>flood</td>\n",
       "      <td>all</td>\n",
       "      <td>New York&amp;#39;s &lt;b&gt;floods&lt;/b&gt; weren&amp;#39;t a one-off — here&amp;#39;s how the city is preparing for th...</td>\n",
       "      <td>New York flash &lt;b&gt;flooding&lt;/b&gt; last week confirmed that climate change is outpacing infrastructu...</td>\n",
       "      <td>tag:google.com,2013:googlealerts/feed:418994847420380038</td>\n",
       "      <td>https://www.cnbc.com/2023/10/04/new-york-city-flood-infrastructure-climate-chief.html</td>\n",
       "      <td>The same idea could be applied to create cloudburst gardens. Source: New York City Department of...</td>\n",
       "      <td>A general view of a flooded street in Williamsburg, New York, United States on September 29, 202...</td>\n",
       "      <td>1</td>\n",
       "    </tr>\n",
       "    <tr>\n",
       "      <th>4</th>\n",
       "      <td>2023-10-04T15:31:03Z</td>\n",
       "      <td>fr</td>\n",
       "      <td>inondation</td>\n",
       "      <td>all</td>\n",
       "      <td>Inde | Au moins cinq morts et 23 soldats disparus après des crues subites dans l&amp;#39;Himalaya</td>\n",
       "      <td>« Des précipitations intenses ont conduit à cette situation catastrophique au Sikkim, où la plui...</td>\n",
       "      <td>tag:google.com,2013:googlealerts/feed:4038413060040291403</td>\n",
       "      <td>https://www.lapresse.ca/international/asie-et-oceanie/2023-10-04/inde/au-moins-cinq-morts-et-23-...</td>\n",
       "      <td>(Guwahati) Au moins cinq personnes ont été tuées et des dizaines portées disparues, dont 23 sold...</td>\n",
       "      <td>(Guwahati) Au moins cinq personnes ont été tuées et des dizaines portées disparues, dont 23 sold...</td>\n",
       "      <td>1</td>\n",
       "    </tr>\n",
       "    <tr>\n",
       "      <th>5</th>\n",
       "      <td>2023-10-04T11:57:43Z</td>\n",
       "      <td>fr</td>\n",
       "      <td>inondation</td>\n",
       "      <td>all</td>\n",
       "      <td>Convoitise et inquiétudes en Libye concernant la reconstruction - Le Devoir</td>\n",
       "      <td>Les administrations rivales en Libye multiplient les initiatives pour s&amp;#39;approprier une part ...</td>\n",
       "      <td>tag:google.com,2013:googlealerts/feed:3481619434203993670</td>\n",
       "      <td>https://www.ledevoir.com/monde/afrique/799286/inondations-a-derna-convoitise-inquietudes-libye-c...</td>\n",
       "      <td>Les administrations rivales en Libye multiplient les initiatives pour sapproprier une part du gâ...</td>\n",
       "      <td>Les administrations rivales en Libye multiplient les initiatives pour sapproprier une part du gâ...</td>\n",
       "      <td>1</td>\n",
       "    </tr>\n",
       "    <tr>\n",
       "      <th>6</th>\n",
       "      <td>2023-10-05T07:50:39Z</td>\n",
       "      <td>en</td>\n",
       "      <td>NaN</td>\n",
       "      <td>NaN</td>\n",
       "      <td>NaN</td>\n",
       "      <td>NaN</td>\n",
       "      <td>NaN</td>\n",
       "      <td>https://www.cbc.ca/news/canada/newfoundland-labrador/post-tropical-storm-nicole-port-aux-basques...</td>\n",
       "      <td>Port aux Basques experienced minor flooding Saturday as the remnants of post-tropical storm Nico...</td>\n",
       "      <td>Port aux Basques experienced minor flooding Saturday as the remnants of post-tropical storm Nico...</td>\n",
       "      <td>1</td>\n",
       "    </tr>\n",
       "    <tr>\n",
       "      <th>7</th>\n",
       "      <td>2023-10-05T07:50:39Z</td>\n",
       "      <td>en</td>\n",
       "      <td>NaN</td>\n",
       "      <td>NaN</td>\n",
       "      <td>NaN</td>\n",
       "      <td>NaN</td>\n",
       "      <td>NaN</td>\n",
       "      <td>https://www.saltwire.com/atlantic-canada/news/post-tropical-storm-earl-leaves-damaged-st-johns-r...</td>\n",
       "      <td>ST. JOHN'S, N.L. St. Johns resident Steve Shortall was up at 6 oclock Monday morning, Sept. 12, ...</td>\n",
       "      <td>ST. JOHN'S, N.L. St. Johns resident Steve Shortall was up at 6 oclock Monday morning, Sept. 12, ...</td>\n",
       "      <td>1</td>\n",
       "    </tr>\n",
       "    <tr>\n",
       "      <th>8</th>\n",
       "      <td>2023-10-05T07:50:39Z</td>\n",
       "      <td>en</td>\n",
       "      <td>NaN</td>\n",
       "      <td>NaN</td>\n",
       "      <td>NaN</td>\n",
       "      <td>NaN</td>\n",
       "      <td>NaN</td>\n",
       "      <td>https://www.winnipegfreepress.com/our-communities/west/overland-flooding-soaks-municipalities-57...</td>\n",
       "      <td>Headingley mayor John Mauseth said Dodds Road, on which he himself lives, saw the worst of the f...</td>\n",
       "      <td>Hey there, time traveller! This article was published 03/05/2022 (569 days ago), so information ...</td>\n",
       "      <td>1</td>\n",
       "    </tr>\n",
       "    <tr>\n",
       "      <th>9</th>\n",
       "      <td>2023-10-05T07:50:39Z</td>\n",
       "      <td>en</td>\n",
       "      <td>NaN</td>\n",
       "      <td>NaN</td>\n",
       "      <td>NaN</td>\n",
       "      <td>NaN</td>\n",
       "      <td>NaN</td>\n",
       "      <td>https://www.cbc.ca/news/canada/manitoba/manitoba-flooding-evacuations-emergency-1.6437263</td>\n",
       "      <td>As Manitoba experiences its third straight weekend of challenging weather, some households are e...</td>\n",
       "      <td>As Manitoba experiences its third straight weekend of challenging weather, some households are e...</td>\n",
       "      <td>1</td>\n",
       "    </tr>\n",
       "    <tr>\n",
       "      <th>10</th>\n",
       "      <td>2023-10-05T07:50:39Z</td>\n",
       "      <td>en</td>\n",
       "      <td>NaN</td>\n",
       "      <td>NaN</td>\n",
       "      <td>NaN</td>\n",
       "      <td>NaN</td>\n",
       "      <td>NaN</td>\n",
       "      <td>https://winnipeg.ctvnews.ca/overland-flooding-sparks-state-of-emergency-in-r-m-of-dufferin-1.588...</td>\n",
       "      <td>Several Manitoba municipalities have declared a local State of Emergency due to ongoing flooding...</td>\n",
       "      <td>Several Manitoba municipalities have declared a local State of Emergency due to ongoing flooding...</td>\n",
       "      <td>1</td>\n",
       "    </tr>\n",
       "  </tbody>\n",
       "</table>\n",
       "</div>"
      ],
      "text/plain": [
       "           PublishedDate Language Alert_definition   PT  \\\n",
       "0   2023-10-05T07:50:39Z       en            flood  all   \n",
       "1   2023-10-05T07:44:07Z       en            flood  all   \n",
       "2   2023-10-05T06:57:51Z       en            flood  all   \n",
       "3   2023-10-05T06:15:39Z       en            flood  all   \n",
       "4   2023-10-04T15:31:03Z       fr       inondation  all   \n",
       "5   2023-10-04T11:57:43Z       fr       inondation  all   \n",
       "6   2023-10-05T07:50:39Z       en              NaN  NaN   \n",
       "7   2023-10-05T07:50:39Z       en              NaN  NaN   \n",
       "8   2023-10-05T07:50:39Z       en              NaN  NaN   \n",
       "9   2023-10-05T07:50:39Z       en              NaN  NaN   \n",
       "10  2023-10-05T07:50:39Z       en              NaN  NaN   \n",
       "\n",
       "                                                                                                  Title  \\\n",
       "0            Flash <b>floods</b> kill at least 14 in northeastern India and leave more than 100 missing   \n",
       "1       8 dead, 22 armymen among 69 missing as flash <b>flood</b> wreaks havoc in Sikkim; Modi dials CM   \n",
       "2                Tokyo Will Get a New Immersive Shopping, Dining Spot as Tourists <b>Flood</b> to Japan   \n",
       "3   New York&#39;s <b>floods</b> weren&#39;t a one-off — here&#39;s how the city is preparing for th...   \n",
       "4         Inde | Au moins cinq morts et 23 soldats disparus après des crues subites dans l&#39;Himalaya   \n",
       "5                           Convoitise et inquiétudes en Libye concernant la reconstruction - Le Devoir   \n",
       "6                                                                                                   NaN   \n",
       "7                                                                                                   NaN   \n",
       "8                                                                                                   NaN   \n",
       "9                                                                                                   NaN   \n",
       "10                                                                                                  NaN   \n",
       "\n",
       "                                                                                                Content  \\\n",
       "0   NEW DELHI (AP) — Rescue workers were searching for more than 100 people on Thursday after flash ...   \n",
       "1   Besides the 22 army personnel, 47 civilians were also missing, while 166 people have so far been...   \n",
       "2   (Bloomberg) -- A new immersive dining, shopping and entertainment attraction will open in Tokyo ...   \n",
       "3   New York flash <b>flooding</b> last week confirmed that climate change is outpacing infrastructu...   \n",
       "4   « Des précipitations intenses ont conduit à cette situation catastrophique au Sikkim, où la plui...   \n",
       "5   Les administrations rivales en Libye multiplient les initiatives pour s&#39;approprier une part ...   \n",
       "6                                                                                                   NaN   \n",
       "7                                                                                                   NaN   \n",
       "8                                                                                                   NaN   \n",
       "9                                                                                                   NaN   \n",
       "10                                                                                                  NaN   \n",
       "\n",
       "                                                            Id  \\\n",
       "0    tag:google.com,2013:googlealerts/feed:7377215587900989542   \n",
       "1    tag:google.com,2013:googlealerts/feed:1218474220935360231   \n",
       "2   tag:google.com,2013:googlealerts/feed:11568202952123180859   \n",
       "3     tag:google.com,2013:googlealerts/feed:418994847420380038   \n",
       "4    tag:google.com,2013:googlealerts/feed:4038413060040291403   \n",
       "5    tag:google.com,2013:googlealerts/feed:3481619434203993670   \n",
       "6                                                          NaN   \n",
       "7                                                          NaN   \n",
       "8                                                          NaN   \n",
       "9                                                          NaN   \n",
       "10                                                         NaN   \n",
       "\n",
       "                                                                                                    URL  \\\n",
       "0   https://nationalpost.com/pmn/news-pmn/flash-floods-kill-at-least-14-in-northeastern-india-and-le...   \n",
       "1   https://m.timesofindia.com/city/kolkata/8-dead-22-armymen-among-69-missing-as-flash-flood-wreaks...   \n",
       "2   https://www.bnnbloomberg.ca/tokyo-will-get-a-new-immersive-shopping-dining-spot-as-tourists-floo...   \n",
       "3                 https://www.cnbc.com/2023/10/04/new-york-city-flood-infrastructure-climate-chief.html   \n",
       "4   https://www.lapresse.ca/international/asie-et-oceanie/2023-10-04/inde/au-moins-cinq-morts-et-23-...   \n",
       "5   https://www.ledevoir.com/monde/afrique/799286/inondations-a-derna-convoitise-inquietudes-libye-c...   \n",
       "6   https://www.cbc.ca/news/canada/newfoundland-labrador/post-tropical-storm-nicole-port-aux-basques...   \n",
       "7   https://www.saltwire.com/atlantic-canada/news/post-tropical-storm-earl-leaves-damaged-st-johns-r...   \n",
       "8   https://www.winnipegfreepress.com/our-communities/west/overland-flooding-soaks-municipalities-57...   \n",
       "9             https://www.cbc.ca/news/canada/manitoba/manitoba-flooding-evacuations-emergency-1.6437263   \n",
       "10  https://winnipeg.ctvnews.ca/overland-flooding-sparks-state-of-emergency-in-r-m-of-dufferin-1.588...   \n",
       "\n",
       "                                                                                                Summary  \\\n",
       "0   Article content It was the latest deadly flood to hit northeast India in a year of unusually hea...   \n",
       "1   \"Spoke to Sikkim CM Shri PSTamangGolay and took stock of the situation in the wake of the unfort...   \n",
       "2   Tokyo Will Get a New Immersive Shopping, Dining Spot as Tourists Flood to Japan(Bloomberg) -- A ...   \n",
       "3   The same idea could be applied to create cloudburst gardens. Source: New York City Department of...   \n",
       "4   (Guwahati) Au moins cinq personnes ont été tuées et des dizaines portées disparues, dont 23 sold...   \n",
       "5   Les administrations rivales en Libye multiplient les initiatives pour sapproprier une part du gâ...   \n",
       "6   Port aux Basques experienced minor flooding Saturday as the remnants of post-tropical storm Nico...   \n",
       "7   ST. JOHN'S, N.L. St. Johns resident Steve Shortall was up at 6 oclock Monday morning, Sept. 12, ...   \n",
       "8   Headingley mayor John Mauseth said Dodds Road, on which he himself lives, saw the worst of the f...   \n",
       "9   As Manitoba experiences its third straight weekend of challenging weather, some households are e...   \n",
       "10  Several Manitoba municipalities have declared a local State of Emergency due to ongoing flooding...   \n",
       "\n",
       "                                                                                            New_Content  \\\n",
       "0   This advertisement has not loaded yet, but your article continues below. Icy floodwaters kill at...   \n",
       "1   Sikkim flash floods: 23 army men missing after cloud burst in Lachen Valley NEW DELHI/GANGTOK: A...   \n",
       "2   Tokyo Will Get a New Immersive Shopping, Dining Spot as Tourists Flood to Japan (Bloomberg) -- A...   \n",
       "3   A general view of a flooded street in Williamsburg, New York, United States on September 29, 202...   \n",
       "4   (Guwahati) Au moins cinq personnes ont été tuées et des dizaines portées disparues, dont 23 sold...   \n",
       "5   Les administrations rivales en Libye multiplient les initiatives pour sapproprier une part du gâ...   \n",
       "6   Port aux Basques experienced minor flooding Saturday as the remnants of post-tropical storm Nico...   \n",
       "7   ST. JOHN'S, N.L. St. Johns resident Steve Shortall was up at 6 oclock Monday morning, Sept. 12, ...   \n",
       "8   Hey there, time traveller! This article was published 03/05/2022 (569 days ago), so information ...   \n",
       "9   As Manitoba experiences its third straight weekend of challenging weather, some households are e...   \n",
       "10  Several Manitoba municipalities have declared a local State of Emergency due to ongoing flooding...   \n",
       "\n",
       "    Is_Article  \n",
       "0            1  \n",
       "1            1  \n",
       "2            1  \n",
       "3            1  \n",
       "4            1  \n",
       "5            1  \n",
       "6            1  \n",
       "7            1  \n",
       "8            1  \n",
       "9            1  \n",
       "10           1  "
      ]
     },
     "execution_count": 94,
     "metadata": {},
     "output_type": "execute_result"
    }
   ],
   "source": [
    "url_content_df = data_df\n",
    "url_content_df = extractor.filter_scraped_data(url_content_df)\n",
    "url_content_df"
   ]
  },
  {
   "cell_type": "code",
   "execution_count": 128,
   "metadata": {},
   "outputs": [
    {
     "name": "stderr",
     "output_type": "stream",
     "text": [
      "INFO:content_extractor:OpenAI is extracting information from https://www.winnipegfreepress.com/our-communities/west/overland-flooding-soaks-municipalities-576463972.html\n"
     ]
    }
   ],
   "source": [
    "# Run example om a sigle URL with OpenAI\n",
    "\n",
    "tmp_df = url_content_df.iloc[8]\n",
    "openai_content_0 = extractor.extract_single_event_chatopenai(tmp_df['New_Content'], tmp_df['URL'], tmp_df['Language'], tmp_df['PublishedDate'])\n",
    "# content_df = extractor.transform_openai_response_to_df(openai_content_0)\n",
    "# content_df"
   ]
  },
  {
   "cell_type": "code",
   "execution_count": 129,
   "metadata": {},
   "outputs": [
    {
     "data": {
      "text/html": [
       "<div>\n",
       "<style scoped>\n",
       "    .dataframe tbody tr th:only-of-type {\n",
       "        vertical-align: middle;\n",
       "    }\n",
       "\n",
       "    .dataframe tbody tr th {\n",
       "        vertical-align: top;\n",
       "    }\n",
       "\n",
       "    .dataframe thead th {\n",
       "        text-align: right;\n",
       "    }\n",
       "</style>\n",
       "<table border=\"1\" class=\"dataframe\">\n",
       "  <thead>\n",
       "    <tr style=\"text-align: right;\">\n",
       "      <th></th>\n",
       "      <th>is_happened</th>\n",
       "      <th>flood_cause_en</th>\n",
       "      <th>date</th>\n",
       "      <th>location</th>\n",
       "      <th>death</th>\n",
       "      <th>evacuation</th>\n",
       "      <th>country</th>\n",
       "      <th>link</th>\n",
       "      <th>published_date</th>\n",
       "    </tr>\n",
       "  </thead>\n",
       "  <tbody>\n",
       "    <tr>\n",
       "      <th>0</th>\n",
       "      <td>Yes</td>\n",
       "      <td>Heavy snowfall and rainstorm</td>\n",
       "      <td>2022-04</td>\n",
       "      <td>R.M. of Headingley, R.M. of Rosser, R.M. of MacDonald, R.M. of Cartier</td>\n",
       "      <td>No</td>\n",
       "      <td>No</td>\n",
       "      <td>Canada</td>\n",
       "      <td>https://www.winnipegfreepress.com/our-communities/west/overland-flooding-soaks-municipalities-57...</td>\n",
       "      <td>2023-10-05T07:50:39Z</td>\n",
       "    </tr>\n",
       "  </tbody>\n",
       "</table>\n",
       "</div>"
      ],
      "text/plain": [
       "  is_happened                flood_cause_en     date  \\\n",
       "0         Yes  Heavy snowfall and rainstorm  2022-04   \n",
       "\n",
       "                                                                 location  \\\n",
       "0  R.M. of Headingley, R.M. of Rosser, R.M. of MacDonald, R.M. of Cartier   \n",
       "\n",
       "  death evacuation country  \\\n",
       "0    No         No  Canada   \n",
       "\n",
       "                                                                                                  link  \\\n",
       "0  https://www.winnipegfreepress.com/our-communities/west/overland-flooding-soaks-municipalities-57...   \n",
       "\n",
       "         published_date  \n",
       "0  2023-10-05T07:50:39Z  "
      ]
     },
     "execution_count": 129,
     "metadata": {},
     "output_type": "execute_result"
    }
   ],
   "source": [
    "openai_content_0"
   ]
  },
  {
   "cell_type": "code",
   "execution_count": 74,
   "metadata": {},
   "outputs": [
    {
     "data": {
      "text/html": [
       "<div>\n",
       "<style scoped>\n",
       "    .dataframe tbody tr th:only-of-type {\n",
       "        vertical-align: middle;\n",
       "    }\n",
       "\n",
       "    .dataframe tbody tr th {\n",
       "        vertical-align: top;\n",
       "    }\n",
       "\n",
       "    .dataframe thead th {\n",
       "        text-align: right;\n",
       "    }\n",
       "</style>\n",
       "<table border=\"1\" class=\"dataframe\">\n",
       "  <thead>\n",
       "    <tr style=\"text-align: right;\">\n",
       "      <th></th>\n",
       "      <th>is_happened</th>\n",
       "      <th>flood_cause_en</th>\n",
       "      <th>date</th>\n",
       "      <th>location</th>\n",
       "      <th>death</th>\n",
       "      <th>evacuation</th>\n",
       "      <th>country</th>\n",
       "    </tr>\n",
       "  </thead>\n",
       "  <tbody>\n",
       "    <tr>\n",
       "      <th>0</th>\n",
       "      <td>Oui</td>\n",
       "      <td>Rupture de deux barrages en amont de Derna</td>\n",
       "      <td>Inconnu</td>\n",
       "      <td>Derna</td>\n",
       "      <td>Oui</td>\n",
       "      <td>Oui</td>\n",
       "      <td>Libye</td>\n",
       "    </tr>\n",
       "  </tbody>\n",
       "</table>\n",
       "</div>"
      ],
      "text/plain": [
       "  is_happened                              flood_cause_en     date location  \\\n",
       "0         Oui  Rupture de deux barrages en amont de Derna  Inconnu    Derna   \n",
       "\n",
       "  death evacuation country  \n",
       "0   Oui        Oui   Libye  "
      ]
     },
     "execution_count": 74,
     "metadata": {},
     "output_type": "execute_result"
    }
   ],
   "source": [
    "extractor.transform_openai_response_to_df(openai_content_0)"
   ]
  },
  {
   "cell_type": "code",
   "execution_count": 65,
   "metadata": {},
   "outputs": [
    {
     "name": "stderr",
     "output_type": "stream",
     "text": [
      "INFO:content_extractor:OpenAI is extracting information from https://www.bnnbloomberg.ca/tokyo-will-get-a-new-immersive-shopping-dining-spot-as-tourists-flood-to-japan-1.1980535\n"
     ]
    }
   ],
   "source": [
    "# Run example om a sigle URL with OpenAI\n",
    "\n",
    "tmp_df = url_content_df.iloc[2]\n",
    "openai_content = extractor.extract_single_event_chatopenai(tmp_df['New_Content'], tmp_df['URL'], tmp_df['Language'], tmp_df['PublishedDate'])"
   ]
  },
  {
   "cell_type": "code",
   "execution_count": 66,
   "metadata": {},
   "outputs": [
    {
     "data": {
      "text/plain": [
       "'{\\n  \"1\": \"No\",\\n  \"2\": \"NA\",\\n  \"3\": \"NA\",\\n  \"4\": \"NA\",\\n  \"5\": \"NA\",\\n  \"6\": \"NA\",\\n  \"7\": \"NA\"\\n}'"
      ]
     },
     "execution_count": 66,
     "metadata": {},
     "output_type": "execute_result"
    }
   ],
   "source": [
    "openai_content"
   ]
  },
  {
   "cell_type": "code",
   "execution_count": 67,
   "metadata": {},
   "outputs": [
    {
     "data": {
      "text/html": [
       "<div>\n",
       "<style scoped>\n",
       "    .dataframe tbody tr th:only-of-type {\n",
       "        vertical-align: middle;\n",
       "    }\n",
       "\n",
       "    .dataframe tbody tr th {\n",
       "        vertical-align: top;\n",
       "    }\n",
       "\n",
       "    .dataframe thead th {\n",
       "        text-align: right;\n",
       "    }\n",
       "</style>\n",
       "<table border=\"1\" class=\"dataframe\">\n",
       "  <thead>\n",
       "    <tr style=\"text-align: right;\">\n",
       "      <th></th>\n",
       "      <th>is_happened</th>\n",
       "      <th>flood_cause_en</th>\n",
       "      <th>date</th>\n",
       "      <th>location</th>\n",
       "      <th>death</th>\n",
       "      <th>evacuation</th>\n",
       "      <th>country</th>\n",
       "    </tr>\n",
       "  </thead>\n",
       "  <tbody>\n",
       "    <tr>\n",
       "      <th>0</th>\n",
       "      <td>No</td>\n",
       "      <td>NA</td>\n",
       "      <td>NA</td>\n",
       "      <td>NA</td>\n",
       "      <td>NA</td>\n",
       "      <td>NA</td>\n",
       "      <td>NA</td>\n",
       "    </tr>\n",
       "  </tbody>\n",
       "</table>\n",
       "</div>"
      ],
      "text/plain": [
       "  is_happened flood_cause_en date location death evacuation country\n",
       "0          No             NA   NA       NA    NA         NA      NA"
      ]
     },
     "execution_count": 67,
     "metadata": {},
     "output_type": "execute_result"
    }
   ],
   "source": [
    "extractor.transform_openai_response_to_df(openai_content)"
   ]
  },
  {
   "cell_type": "code",
   "execution_count": 89,
   "metadata": {},
   "outputs": [
    {
     "name": "stderr",
     "output_type": "stream",
     "text": [
      "INFO:content_extractor:OpenAI is extracting information from https://nationalpost.com/pmn/news-pmn/flash-floods-kill-at-least-14-in-northeastern-india-and-leave-more-than-100-missing\n"
     ]
    }
   ],
   "source": [
    "# Run example om a sigle URL with OpenAI\n",
    "\n",
    "tmp_df = url_content_df.iloc[0]\n",
    "openai_content_3 = extractor.extract_single_event_chatopenai(tmp_df['New_Content'], tmp_df['URL'], tmp_df['Language'], tmp_df['PublishedDate'])"
   ]
  },
  {
   "cell_type": "code",
   "execution_count": 90,
   "metadata": {},
   "outputs": [
    {
     "data": {
      "text/plain": [
       "'{\\n  \"1\": \"Yes\",\\n  \"2\": \"Overflow of a glacial lake\",\\n  \"3\": \"Unknown\",\\n  \"4\": \"Sikkim State, India\",\\n  \"5\": \"Yes\",\\n  \"6\": \"Yes\",\\n  \"7\": \"India\"\\n}'"
      ]
     },
     "execution_count": 90,
     "metadata": {},
     "output_type": "execute_result"
    }
   ],
   "source": [
    "openai_content_3"
   ]
  },
  {
   "cell_type": "code",
   "execution_count": 86,
   "metadata": {},
   "outputs": [
    {
     "data": {
      "text/html": [
       "<div>\n",
       "<style scoped>\n",
       "    .dataframe tbody tr th:only-of-type {\n",
       "        vertical-align: middle;\n",
       "    }\n",
       "\n",
       "    .dataframe tbody tr th {\n",
       "        vertical-align: top;\n",
       "    }\n",
       "\n",
       "    .dataframe thead th {\n",
       "        text-align: right;\n",
       "    }\n",
       "</style>\n",
       "<table border=\"1\" class=\"dataframe\">\n",
       "  <thead>\n",
       "    <tr style=\"text-align: right;\">\n",
       "      <th></th>\n",
       "      <th>is_happened</th>\n",
       "      <th>flood_cause_en</th>\n",
       "      <th>date</th>\n",
       "      <th>location</th>\n",
       "      <th>death</th>\n",
       "      <th>evacuation</th>\n",
       "      <th>country</th>\n",
       "    </tr>\n",
       "  </thead>\n",
       "  <tbody>\n",
       "    <tr>\n",
       "      <th>0</th>\n",
       "      <td>Yes</td>\n",
       "      <td>The flood was caused by the overflow of a glacial lake and the subsequent breach of a hydroelect...</td>\n",
       "      <td>Unknown</td>\n",
       "      <td>The flood affected towns in India's Himalayan northeast, including Dikchu and Rangpo in the Tees...</td>\n",
       "      <td>Yes</td>\n",
       "      <td>Yes</td>\n",
       "      <td>India</td>\n",
       "    </tr>\n",
       "  </tbody>\n",
       "</table>\n",
       "</div>"
      ],
      "text/plain": [
       "  is_happened  \\\n",
       "0         Yes   \n",
       "\n",
       "                                                                                        flood_cause_en  \\\n",
       "0  The flood was caused by the overflow of a glacial lake and the subsequent breach of a hydroelect...   \n",
       "\n",
       "      date  \\\n",
       "0  Unknown   \n",
       "\n",
       "                                                                                              location  \\\n",
       "0  The flood affected towns in India's Himalayan northeast, including Dikchu and Rangpo in the Tees...   \n",
       "\n",
       "  death evacuation country  \n",
       "0   Yes        Yes   India  "
      ]
     },
     "execution_count": 86,
     "metadata": {},
     "output_type": "execute_result"
    }
   ],
   "source": [
    "extractor.transform_openai_response_to_df(openai_content_3)"
   ]
  },
  {
   "cell_type": "code",
   "execution_count": 102,
   "metadata": {},
   "outputs": [
    {
     "name": "stderr",
     "output_type": "stream",
     "text": [
      "INFO:content_extractor:OpenAI is extracting information from https://www.saltwire.com/atlantic-canada/news/post-tropical-storm-earl-leaves-damaged-st-johns-roads-and-flooded-properties-in-its-wake-100772111/#:~:text=Post%2Dtropical%20storm%20Earl%20dumped,it%20was%20impassable%20Monday%20morning.\n"
     ]
    }
   ],
   "source": [
    "tmp_df = url_content_df.iloc[7]\n",
    "openai_model = \"gpt-3.5-turbo-1106\"\n",
    "openai_content_7 = extractor.extract_single_event_chatopenai(tmp_df['New_Content'], tmp_df['URL'], tmp_df['Language'], tmp_df['PublishedDate'])"
   ]
  },
  {
   "cell_type": "code",
   "execution_count": 104,
   "metadata": {},
   "outputs": [
    {
     "data": {
      "text/html": [
       "<div>\n",
       "<style scoped>\n",
       "    .dataframe tbody tr th:only-of-type {\n",
       "        vertical-align: middle;\n",
       "    }\n",
       "\n",
       "    .dataframe tbody tr th {\n",
       "        vertical-align: top;\n",
       "    }\n",
       "\n",
       "    .dataframe thead th {\n",
       "        text-align: right;\n",
       "    }\n",
       "</style>\n",
       "<table border=\"1\" class=\"dataframe\">\n",
       "  <thead>\n",
       "    <tr style=\"text-align: right;\">\n",
       "      <th></th>\n",
       "      <th>is_happened</th>\n",
       "      <th>flood_cause_en</th>\n",
       "      <th>date</th>\n",
       "      <th>location</th>\n",
       "      <th>death</th>\n",
       "      <th>evacuation</th>\n",
       "      <th>country</th>\n",
       "    </tr>\n",
       "  </thead>\n",
       "  <tbody>\n",
       "    <tr>\n",
       "      <th>0</th>\n",
       "      <td>Yes</td>\n",
       "      <td>Post-tropical storm Earl and heavy precipitation</td>\n",
       "      <td>2022-09</td>\n",
       "      <td>St. John's, Mount Pearl, and surrounding areas</td>\n",
       "      <td>No</td>\n",
       "      <td>Yes</td>\n",
       "      <td>Canada</td>\n",
       "    </tr>\n",
       "  </tbody>\n",
       "</table>\n",
       "</div>"
      ],
      "text/plain": [
       "  is_happened                                    flood_cause_en     date  \\\n",
       "0         Yes  Post-tropical storm Earl and heavy precipitation  2022-09   \n",
       "\n",
       "                                         location death evacuation country  \n",
       "0  St. John's, Mount Pearl, and surrounding areas    No        Yes  Canada  "
      ]
     },
     "execution_count": 104,
     "metadata": {},
     "output_type": "execute_result"
    }
   ],
   "source": [
    "extractor.transform_openai_response_to_df(openai_content_7)"
   ]
  },
  {
   "cell_type": "code",
   "execution_count": 123,
   "metadata": {},
   "outputs": [
    {
     "name": "stderr",
     "output_type": "stream",
     "text": [
      "INFO:content_extractor:OpenAI is extracting information from https://winnipeg.ctvnews.ca/overland-flooding-sparks-state-of-emergency-in-r-m-of-dufferin-1.5883827\n"
     ]
    }
   ],
   "source": [
    "tmp_df = url_content_df.iloc[10]\n",
    "openai_model = \"gpt-3.5-turbo-1106\"\n",
    "openai_content_10 = extractor.extract_single_event_chatopenai(tmp_df['New_Content'], tmp_df['URL'], tmp_df['Language'], tmp_df['PublishedDate'])"
   ]
  },
  {
   "cell_type": "code",
   "execution_count": 124,
   "metadata": {},
   "outputs": [
    {
     "data": {
      "text/plain": [
       "'{\\n\"1\": \"Yes\",\\n\"2\": \"Excessive rain and river overflow\",\\n\"3\": \"Unknown\",\\n\"4\": [\"R.M. of Dufferin\", \"Town of Carman\", \"Town of Winnipeg Beach\", \"Town of Arborg\", \"R.M. of Gimli\", \"Long Plain First Nation\", \"City of Morden\"],\\n\"5\": \"Unknown\",\\n\"6\": \"Yes\",\\n\"7\": \"Canada\"\\n}'"
      ]
     },
     "execution_count": 124,
     "metadata": {},
     "output_type": "execute_result"
    }
   ],
   "source": [
    "openai_content_10"
   ]
  },
  {
   "cell_type": "code",
   "execution_count": 125,
   "metadata": {},
   "outputs": [
    {
     "data": {
      "text/html": [
       "<div>\n",
       "<style scoped>\n",
       "    .dataframe tbody tr th:only-of-type {\n",
       "        vertical-align: middle;\n",
       "    }\n",
       "\n",
       "    .dataframe tbody tr th {\n",
       "        vertical-align: top;\n",
       "    }\n",
       "\n",
       "    .dataframe thead th {\n",
       "        text-align: right;\n",
       "    }\n",
       "</style>\n",
       "<table border=\"1\" class=\"dataframe\">\n",
       "  <thead>\n",
       "    <tr style=\"text-align: right;\">\n",
       "      <th></th>\n",
       "      <th>is_happened</th>\n",
       "      <th>flood_cause_en</th>\n",
       "      <th>date</th>\n",
       "      <th>location</th>\n",
       "      <th>death</th>\n",
       "      <th>evacuation</th>\n",
       "      <th>country</th>\n",
       "    </tr>\n",
       "  </thead>\n",
       "  <tbody>\n",
       "    <tr>\n",
       "      <th>0</th>\n",
       "      <td>Yes</td>\n",
       "      <td>Excessive rain and river overflow</td>\n",
       "      <td>Unknown</td>\n",
       "      <td>[R.M. of Dufferin, Town of Carman, Town of Winnipeg Beach, Town of Arborg, R.M. of Gimli, Long P...</td>\n",
       "      <td>Unknown</td>\n",
       "      <td>Yes</td>\n",
       "      <td>Canada</td>\n",
       "    </tr>\n",
       "  </tbody>\n",
       "</table>\n",
       "</div>"
      ],
      "text/plain": [
       "  is_happened                     flood_cause_en     date  \\\n",
       "0         Yes  Excessive rain and river overflow  Unknown   \n",
       "\n",
       "                                                                                              location  \\\n",
       "0  [R.M. of Dufferin, Town of Carman, Town of Winnipeg Beach, Town of Arborg, R.M. of Gimli, Long P...   \n",
       "\n",
       "     death evacuation country  \n",
       "0  Unknown        Yes  Canada  "
      ]
     },
     "execution_count": 125,
     "metadata": {},
     "output_type": "execute_result"
    }
   ],
   "source": [
    "extractor.transform_openai_response_to_df(openai_content_10)"
   ]
  },
  {
   "cell_type": "code",
   "execution_count": 234,
   "metadata": {},
   "outputs": [],
   "source": [
    "import json\n",
    " # Replace newline characters and leading/trailing spaces\n",
    "openai_content_31 = openai_content_3.replace('[', '').replace(']', '').replace('\\n ', '')\n",
    "# Remove any non-printable characters\n",
    "openai_content_31 = ''.join(char for char in openai_content_31 if char.isprintable())\n",
    "# openai_content_31[410:414]\n",
    "openai_content_dict = json.loads(openai_content_31)\n"
   ]
  },
  {
   "cell_type": "code",
   "execution_count": 223,
   "metadata": {},
   "outputs": [
    {
     "name": "stdout",
     "output_type": "stream",
     "text": [
      "{  \"1. Did a flood event occur?\": \"Yes\",  \"2. If a flood event occurred, what caused the flood event?\": \"Overflowing of a glacial lake\",  \"3. If a flood event occurred, when did it happen?\": \"Unknown\",  \"4. If a flood event occurred, where did it happen?\": [\"Sikkim State, India\"],  \"5. If a flood event occurred, how many casualties were there?\": 31,  \"6. If a flood event occurred, how many people were evacuated?\": 2,000,  \"7. If the locations of the flood-affected areas are known, which country are they in?\": \"India\"}\n"
     ]
    }
   ],
   "source": [
    "print(openai_content_31)"
   ]
  },
  {
   "cell_type": "code",
   "execution_count": 217,
   "metadata": {},
   "outputs": [
    {
     "data": {
      "text/plain": [
       "{'1. Did a flood event occur?': 'Yes',\n",
       " '2. If a flood event occurred, what caused the flood event?': 'Overflowing of a glacial lake',\n",
       " '3. If a flood event occurred, when did it happen?': 'Unknown',\n",
       " '4. If a flood event occurred, where did it happen?': 'Sikkim State, India',\n",
       " '5. If a flood event occurred, how many casualties were there?': 31,\n",
       " '6. If a flood event occurred, how many people were evacuated?': 2000,\n",
       " '7. If the locations of the flood-affected areas are known, which country are they in?': 'India'}"
      ]
     },
     "execution_count": 217,
     "metadata": {},
     "output_type": "execute_result"
    }
   ],
   "source": [
    "json_str = '{\"1. Did a flood event occur?\": \"Yes\", \"2. If a flood event occurred, what caused the flood event?\": \"Overflowing of a glacial lake\",\"3. If a flood event occurred, when did it happen?\": \"Unknown\",\"4. If a flood event occurred, where did it happen?\": \"Sikkim State, India\",\"5. If a flood event occurred, how many casualties were there?\": 31,  \"6. If a flood event occurred, how many people were evacuated?\": 2000,\"7. If the locations of the flood-affected areas are known, which country are they in?\": \"India\"}'\n",
    " \n",
    "json.loads(json_str)"
   ]
  },
  {
   "cell_type": "code",
   "execution_count": 211,
   "metadata": {},
   "outputs": [
    {
     "data": {
      "text/plain": [
       "'{ \"1. Did a flood event occur?\": \"Yes\", \"2. If a flood event occurred, what caused the flood event?\": \"Overflowing of a glacial lake\", \"3. If a flood event occurred, when did it happen?\": \"Unknown\", \"4. If a flood event occurred, where did it happen?\": \"Sikkim State, India\", \"5. If a flood event occurred, how many casualties were there?\": 31, \"6. If a flood event occurred, how many people were evacuated?\": 2,000, \"7. If the locations of the flood-affected areas are known, which country are they in?\": \"India\"}'"
      ]
     },
     "execution_count": 211,
     "metadata": {},
     "output_type": "execute_result"
    }
   ],
   "source": [
    "openai_content_31"
   ]
  },
  {
   "cell_type": "code",
   "execution_count": 167,
   "metadata": {},
   "outputs": [
    {
     "data": {
      "text/html": [
       "<div>\n",
       "<style scoped>\n",
       "    .dataframe tbody tr th:only-of-type {\n",
       "        vertical-align: middle;\n",
       "    }\n",
       "\n",
       "    .dataframe tbody tr th {\n",
       "        vertical-align: top;\n",
       "    }\n",
       "\n",
       "    .dataframe thead th {\n",
       "        text-align: right;\n",
       "    }\n",
       "</style>\n",
       "<table border=\"1\" class=\"dataframe\">\n",
       "  <thead>\n",
       "    <tr style=\"text-align: right;\">\n",
       "      <th></th>\n",
       "      <th>1. Did a flood event occur?</th>\n",
       "      <th>2. If a flood event occurred, what caused the flood event?</th>\n",
       "      <th>3. If a flood event occurred, when did it happen?</th>\n",
       "      <th>4. If a flood event occurred, where did it happen?</th>\n",
       "      <th>5. If a flood event occurred, how many casualties were there?</th>\n",
       "      <th>6. If a flood event occurred, how many people were evacuated?</th>\n",
       "      <th>7. If the locations of the flood-affected areas are known, which country are they in?</th>\n",
       "    </tr>\n",
       "  </thead>\n",
       "  <tbody>\n",
       "    <tr>\n",
       "      <th>0</th>\n",
       "      <td>Yes</td>\n",
       "      <td>Overflow of a glacial lake</td>\n",
       "      <td>Unknown</td>\n",
       "      <td>Sikkim State, India</td>\n",
       "      <td>At least 31</td>\n",
       "      <td>More than 2,000</td>\n",
       "      <td>India</td>\n",
       "    </tr>\n",
       "  </tbody>\n",
       "</table>\n",
       "</div>"
      ],
      "text/plain": [
       "  1. Did a flood event occur?  \\\n",
       "0                         Yes   \n",
       "\n",
       "  2. If a flood event occurred, what caused the flood event?  \\\n",
       "0                                 Overflow of a glacial lake   \n",
       "\n",
       "  3. If a flood event occurred, when did it happen?  \\\n",
       "0                                           Unknown   \n",
       "\n",
       "  4. If a flood event occurred, where did it happen?  \\\n",
       "0                                Sikkim State, India   \n",
       "\n",
       "  5. If a flood event occurred, how many casualties were there?  \\\n",
       "0                                                   At least 31   \n",
       "\n",
       "  6. If a flood event occurred, how many people were evacuated?  \\\n",
       "0                                               More than 2,000   \n",
       "\n",
       "  7. If the locations of the flood-affected areas are known, which country are they in?  \n",
       "0                                                                                 India  "
      ]
     },
     "execution_count": 167,
     "metadata": {},
     "output_type": "execute_result"
    }
   ],
   "source": [
    "openai_content_df = pd.DataFrame([openai_content_dict])\n",
    "openai_content_df"
   ]
  },
  {
   "cell_type": "code",
   "execution_count": 155,
   "metadata": {},
   "outputs": [
    {
     "name": "stderr",
     "output_type": "stream",
     "text": [
      "ERROR:content_extractor:An error occurred during transformation: Expecting property name enclosed in double quotes: line 1 column 407 (char 406)\n"
     ]
    },
    {
     "data": {
      "text/html": [
       "<div>\n",
       "<style scoped>\n",
       "    .dataframe tbody tr th:only-of-type {\n",
       "        vertical-align: middle;\n",
       "    }\n",
       "\n",
       "    .dataframe tbody tr th {\n",
       "        vertical-align: top;\n",
       "    }\n",
       "\n",
       "    .dataframe thead th {\n",
       "        text-align: right;\n",
       "    }\n",
       "</style>\n",
       "<table border=\"1\" class=\"dataframe\">\n",
       "  <thead>\n",
       "    <tr style=\"text-align: right;\">\n",
       "      <th></th>\n",
       "    </tr>\n",
       "  </thead>\n",
       "  <tbody>\n",
       "  </tbody>\n",
       "</table>\n",
       "</div>"
      ],
      "text/plain": [
       "Empty DataFrame\n",
       "Columns: []\n",
       "Index: []"
      ]
     },
     "execution_count": 155,
     "metadata": {},
     "output_type": "execute_result"
    }
   ],
   "source": [
    "content_df = extractor.transform_openai_response_to_df(openai_content_3)\n",
    "\n",
    "content_df"
   ]
  },
  {
   "cell_type": "code",
   "execution_count": 57,
   "metadata": {},
   "outputs": [
    {
     "name": "stderr",
     "output_type": "stream",
     "text": [
      "INFO:content_extractor:Extracting information from https://www.winnipegfreepress.com/our-communities/west/overland-flooding-soaks-municipalities-576463972.html\n",
      "INFO:content_extractor:Transforming information from https://www.winnipegfreepress.com/our-communities/west/overland-flooding-soaks-municipalities-576463972.html\n"
     ]
    }
   ],
   "source": [
    "tmp_df = url_content_df.iloc[2]\n",
    "openai_content_2 = extractor.extract_single_event_chatopenai(tmp_df['New_Content'], tmp_df['URL'], openai_model=openai_model, openai_temp=openai_temp, openai_max_tokens=openai_max_tokens)"
   ]
  },
  {
   "cell_type": "code",
   "execution_count": 58,
   "metadata": {},
   "outputs": [
    {
     "data": {
      "text/html": [
       "<div>\n",
       "<style scoped>\n",
       "    .dataframe tbody tr th:only-of-type {\n",
       "        vertical-align: middle;\n",
       "    }\n",
       "\n",
       "    .dataframe tbody tr th {\n",
       "        vertical-align: top;\n",
       "    }\n",
       "\n",
       "    .dataframe thead th {\n",
       "        text-align: right;\n",
       "    }\n",
       "</style>\n",
       "<table border=\"1\" class=\"dataframe\">\n",
       "  <thead>\n",
       "    <tr style=\"text-align: right;\">\n",
       "      <th></th>\n",
       "      <th>is_happened</th>\n",
       "      <th>flood_cause_en</th>\n",
       "      <th>date</th>\n",
       "      <th>location</th>\n",
       "      <th>death</th>\n",
       "      <th>evacuation</th>\n",
       "      <th>country</th>\n",
       "    </tr>\n",
       "  </thead>\n",
       "  <tbody>\n",
       "    <tr>\n",
       "      <th>0</th>\n",
       "      <td>Yes</td>\n",
       "      <td>Heavy snowfall followed by rainstorm</td>\n",
       "      <td>2022-05</td>\n",
       "      <td>Headingley (Dodds Road), RM of Headingley, RM of Rosser, RM of MacDonald, RM of Cartier</td>\n",
       "      <td>Unknown</td>\n",
       "      <td>Unknown</td>\n",
       "      <td>Canada</td>\n",
       "    </tr>\n",
       "  </tbody>\n",
       "</table>\n",
       "</div>"
      ],
      "text/plain": [
       "  is_happened                        flood_cause_en     date  \\\n",
       "0         Yes  Heavy snowfall followed by rainstorm  2022-05   \n",
       "\n",
       "                                                                                  location  \\\n",
       "0  Headingley (Dodds Road), RM of Headingley, RM of Rosser, RM of MacDonald, RM of Cartier   \n",
       "\n",
       "     death evacuation country  \n",
       "0  Unknown    Unknown  Canada  "
      ]
     },
     "execution_count": 58,
     "metadata": {},
     "output_type": "execute_result"
    }
   ],
   "source": [
    "content_df = extractor.transform_openai_response_to_df(openai_content_2)\n",
    "\n",
    "content_df"
   ]
  }
 ],
 "metadata": {
  "kernelspec": {
   "display_name": "nlp_flood_extract_env",
   "language": "python",
   "name": "python3"
  },
  "language_info": {
   "codemirror_mode": {
    "name": "ipython",
    "version": 3
   },
   "file_extension": ".py",
   "mimetype": "text/x-python",
   "name": "python",
   "nbconvert_exporter": "python",
   "pygments_lexer": "ipython3",
   "version": "3.12.0"
  }
 },
 "nbformat": 4,
 "nbformat_minor": 2
}
